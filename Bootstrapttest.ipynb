{
  "nbformat": 4,
  "nbformat_minor": 0,
  "metadata": {
    "colab": {
      "name": "Bootstrapttest.ipynb",
      "provenance": [],
      "collapsed_sections": [],
      "include_colab_link": true
    },
    "kernelspec": {
      "name": "python3",
      "display_name": "Python 3"
    }
  },
  "cells": [
    {
      "cell_type": "markdown",
      "metadata": {
        "id": "view-in-github",
        "colab_type": "text"
      },
      "source": [
        "<a href=\"https://colab.research.google.com/github/siyil/My-code/blob/master/Bootstrapttest.ipynb\" target=\"_parent\"><img src=\"https://colab.research.google.com/assets/colab-badge.svg\" alt=\"Open In Colab\"/></a>"
      ]
    },
    {
      "cell_type": "code",
      "metadata": {
        "id": "nRTEZ1EBXCVz",
        "colab_type": "code",
        "colab": {}
      },
      "source": [
        "import numpy as np\n",
        "import pandas as pd\n",
        "import matplotlib.pyplot as plt\n",
        "import matplotlib.dates as mdates\n",
        "from matplotlib.ticker import FuncFormatter\n",
        "#from scipy.interpolate import spline\n",
        "from scipy import stats\n",
        "import seaborn as sns\n",
        "import statsmodels.api as sm\n",
        "from statsmodels.formula.api import ols, quantreg\n",
        "from ds_tools import db\n",
        "from ds_tools import df_to_snowflake\n",
        "import datetime as dt\n",
        "from statsmodels.distributions.empirical_distribution import ECDF\n",
        "from patsy import dmatrices"
      ],
      "execution_count": 0,
      "outputs": []
    },
    {
      "cell_type": "code",
      "metadata": {
        "id": "Vwh9kG5Uxyb3",
        "colab_type": "code",
        "colab": {}
      },
      "source": [
        "\n",
        "getmetric = '''\n",
        "select * from dm.firmware_upgrade_analysis_Lishui_daily_off_minutes_stat\n",
        "'''\n",
        "runregression1 = \"\"\"\n",
        "select * from dm.firmware_upgrade_analysis_Lishui_daily_off_minutes\n",
        "\"\"\"\n",
        "runregression2 = \"\"\"\n",
        "select * from dm.firmware_upgrade_analysis_Lishui_daily_off_minutes_AA\n",
        "\"\"\"\n",
        "\n",
        "samples = db.query_snowflake(getmetric,warehouse = 'COMPUTE_WH')\n",
        "mydata1 = db.query_snowflake(runregression1,warehouse = 'COMPUTE_WH')\n",
        "mydata2 = db.query_snowflake(runregression2,warehouse = 'COMPUTE_WH')\n",
        "\n",
        "samples = samples.assign(pval = lambda x: 1-stats.t.cdf(np.abs(x.tstat), x.control_n + x.test_n - 2))\n",
        "samples = samples.assign(pvala = lambda x: 1-stats.t.cdf(np.abs(x.tstata), x.controla_n + x.testa_n - 2))\n",
        "#samples1 = samples.assign(alpha = 1)\n",
        "#samples5 = samples.assign(alpha = 5)\n",
        "#samples10 = samples.assign(alpha = 10)\n",
        "#samples = samples1.append(samples5).append(samples10)\n",
        "\n",
        "#samples = samples.assign(upper = lambda x: x.diff_mean.astype(float) + stats.t.ppf(1- x.alpha/200, x.control_n + x.test_n - 2)*x.sp*np.sqrt(1/x.control_n + 1/x.test_n))\n",
        "#samples = samples.assign(lower = lambda x: x.diff_mean.astype(float) - stats.t.ppf(1- x.alpha/200, x.control_n + x.test_n - 2)*x.sp*np.sqrt(1/x.control_n + 1/x.test_n))\n"
      ],
      "execution_count": 0,
      "outputs": []
    },
    {
      "cell_type": "code",
      "metadata": {
        "id": "tHCQLu43VgMk",
        "colab_type": "code",
        "colab": {}
      },
      "source": [
        "def sample(test, control):\n",
        "    s1 = len(test)\n",
        "    df = test.append(control)\n",
        "    bootsample = random.choices(df.values.tolist(), k=len(df))\n",
        "    t_boot = bootsample[0:s1]\n",
        "    c_boot = bootsample[s1:]\n",
        "    return t_boot, c_boot\n",
        "\n",
        "def tstat(treatment, control, method = 'two-sample'):\n",
        "    t_n = len(treatment)\n",
        "    c_n = len(control)\n",
        "    \n",
        "    t_mean = np.mean(treatment)\n",
        "    c_mean = np.mean(control)\n",
        "    \n",
        "    t_sd = np.std(treatment)\n",
        "    c_sd = np.std(control)\n",
        "    \n",
        "    df = t_n + c_n - 2\n",
        "    sp = np.sqrt(((t_n - 1)*(t_sd)**2 + (c_n - 1)*(c_sd)**2) / df) \n",
        "    \n",
        "    tvalue = (t_mean-c_mean)/sp/np.sqrt(1/t_n+1/c_n)\n",
        "    return tvalue\n",
        "\n",
        "def diff(treatment, control):\n",
        "    return np.mean(treatment) - np.mean(control)\n",
        "  \n",
        "\n",
        "def bootstrap_t_test(treatment, control, nboot = 2000):\n",
        "    # tvalue = tstat(treatment, control)\n",
        "    tvalue = diff(treatment, control)\n",
        "    tboot = np.zeros(nboot)\n",
        "    for i in range(nboot):\n",
        "        random.seed(1000+i)\n",
        "        t_boot, c_boot = sample(treatment, control)\n",
        "        # tboot[i] = tstat(t_boot, c_boot)\n",
        "        tboot[i] = diff(t_boot, c_boot)\n",
        "    pvalue = np.sum(np.abs(tboot) >= np.abs(tvalue))/nboot\n",
        "    return pvalue"
      ],
      "execution_count": 0,
      "outputs": []
    },
    {
      "cell_type": "code",
      "metadata": {
        "id": "zJ-I6JkVkLrD",
        "colab_type": "code",
        "outputId": "147d55a1-2214-4851-a129-dce0b2a65719",
        "colab": {
          "base_uri": "https://localhost:8080/",
          "height": 782
        }
      },
      "source": [
        "experiments = list(mydata1['experiment_name'].unique())\n",
        "n_result = len(experiments)+1\n",
        "bootresults = {'experiment_name' : experiments + ['all'], 'pvalboot':[0]*n_result, 'pvalbootAA':[0]*n_result}\n",
        "boot = pd.DataFrame(bootresults)\n",
        "\n",
        "for exp in experiments:\n",
        "  mytest1 = mydata1.loc[mydata1['experiment_name'] == exp].loc[mydata1['group_name'] == 'test', 'daily_off_minutes'].astype(float)\n",
        "  mycontrol1 = mydata1.loc[mydata1['experiment_name'] == exp].loc[mydata1['group_name'] == 'control', 'daily_off_minutes'].astype(float)\n",
        "  boot.loc[boot['experiment_name'] == exp, 'pvalboot'] = bootstrap_t_test(mytest1, mycontrol1)\n",
        "  \n",
        "  mytest2 = mydata2.loc[mydata2['experiment_name'] == exp].loc[mydata2['group_name'] == 'test', 'daily_off_minutes'].astype(float)\n",
        "  mycontrol2 = mydata2.loc[mydata2['experiment_name'] == exp].loc[mydata2['group_name'] == 'control', 'daily_off_minutes'].astype(float)\n",
        "  boot.loc[boot['experiment_name'] == exp, 'pvalbootAA'] = bootstrap_t_test(mytest2, mycontrol2)\n",
        "  \n",
        "  \n",
        "mytest1 = mydata1.loc[mydata1['group_name'] == 'test', 'daily_off_minutes'].astype(float)\n",
        "mycontrol1 = mydata1.loc[mydata1['group_name'] == 'control', 'daily_off_minutes'].astype(float)\n",
        "boot.loc[boot['experiment_name'] == 'all', 'pvalboot'] = bootstrap_t_test(mytest1, mycontrol1)\n",
        "\n",
        "\n",
        "mytest2 = mydata2.loc[mydata2['group_name'] == 'test', 'daily_off_minutes'].astype(float)\n",
        "mycontrol2 = mydata2.loc[mydata2['group_name'] == 'control', 'daily_off_minutes'].astype(float)\n",
        "boot.loc[boot['experiment_name'] == 'all', 'pvalbootAA'] = bootstrap_t_test(mytest2, mycontrol2)\n",
        "\n",
        "\n",
        "samples = samples.merge(boot, on = 'experiment_name')\n",
        "print(samples)"
      ],
      "execution_count": 55,
      "outputs": [
        {
          "output_type": "stream",
          "text": [
            "                                     experiment_name         test_mean  \\\n",
            "0  Firmware_Experiment_Berlin_Lishui_S_3.0GE_Z_E_...  196.326061647295   \n",
            "1  Firmware_Experiment_Edmonton_Lishui_S_V3.0_Z_U...  233.974117711429   \n",
            "2  Firmware_Experiment_Calgary_Lishui_S_V3.0_Z_U_...  177.901103664845   \n",
            "3      Munich_Lishui_S_3.0GE_Z_E_0.2_0.1_0.1_0.1_0.2   45.330428739000   \n",
            "4  Firmware_Experiment_Cologne_Lishui_S_3.0GE_Z_E...  353.756380956667   \n",
            "5  Firmware_Experiment_Paris_Lishui_S_V3.0_Z_E_0....  392.689027501433   \n",
            "6  Firmware_Experiment_Zurich_Lishui_S_V3.0_Z_E_0...  175.727917907937   \n",
            "7                                                all  178.864786315772   \n",
            "8   Frankfurt_Lishui_S_3.0GE_Z_E_0.2_0.1_0.1_0.1_0.2   36.461428706000   \n",
            "\n",
            "       control_mean     test_sd  control_sd          diff_mean          sp  \\\n",
            "0  201.005527486991  271.326001  262.483855    -4.679465839696  266.938588   \n",
            "1  257.474970518625  179.643918  204.353004   -23.500852807196  192.377850   \n",
            "2  181.259251369091   94.881964  102.352248    -3.358147704246   98.691218   \n",
            "3   67.906285870000  154.319689  202.978384   -22.575857131000  180.298074   \n",
            "4  384.592451027871  381.191567  389.364181   -30.836070071204  385.292714   \n",
            "5  511.578714768786  300.535060  357.145747  -118.889687267353  329.934259   \n",
            "6  182.664425815873   80.148555  111.224366    -6.936507907936   96.939802   \n",
            "7  195.688169883983  266.680846  283.453410   -16.823383568211  275.192125   \n",
            "8   27.228857278000  162.804851  131.575882     9.232571428000  148.016270   \n",
            "\n",
            "      tstat  test_n  control_n  ... controla_sd        diff_meana         spa  \\\n",
            "0 -0.479782    1497       1499  ...  781.780486  -45.408733599704  763.757273   \n",
            "1 -1.614933     350        349  ...  270.889489  -26.457754543356  256.456295   \n",
            "2 -0.564066     549        550  ...   99.976556   -6.703423467564   83.421055   \n",
            "3 -2.799872    1000       1000  ...  110.228996  -10.790714284000   98.904454   \n",
            "4 -1.696312     900        897  ...  896.307356  -66.098795975659  834.929555   \n",
            "5 -4.750005     349        346  ...  545.214446  -36.881976111060  506.719216   \n",
            "6 -0.897949     315        315  ...  113.837246    3.751927444444  108.110678   \n",
            "7 -3.335091    5960       5956  ...  615.622247  -26.422513356573  589.354466   \n",
            "8  1.394756    1000       1000  ...   43.155913    4.579571423000   63.372993   \n",
            "\n",
            "     tstata testa_n  controla_n      pval     pvala  pvalboot  pvalbootAA  \n",
            "0 -1.627209    1497        1499  0.315709  0.051899    0.6275      0.1020  \n",
            "1 -1.363847     350         349  0.053389  0.086528    0.0970      0.1740  \n",
            "2 -1.332079     549         550  0.286412  0.091555    0.5675      0.1715  \n",
            "3 -2.439604    1000        1000  0.002581  0.007395    0.0055      0.0120  \n",
            "4 -1.677958     900         897  0.045000  0.046765    0.1025      0.0915  \n",
            "5 -0.959454     349         346  0.000001  0.168832    0.0000      0.3430  \n",
            "6  0.435511     315         315  0.184778  0.331671    0.3535      0.6580  \n",
            "7 -2.445839    5960        5956  0.000428  0.007233    0.0005      0.0120  \n",
            "8  1.615867    1000        1000  0.081622  0.053140    0.1695      0.0915  \n",
            "\n",
            "[9 rows x 23 columns]\n"
          ],
          "name": "stdout"
        }
      ]
    },
    {
      "cell_type": "code",
      "metadata": {
        "id": "1T6A9La8Mg6k",
        "colab_type": "code",
        "colab": {}
      },
      "source": [
        "samples.to_csv('/Users/siyi.luo/Code/IoT Experiment/stats2.csv')"
      ],
      "execution_count": 0,
      "outputs": []
    }
  ]
}