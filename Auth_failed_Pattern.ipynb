{
  "nbformat": 4,
  "nbformat_minor": 0,
  "metadata": {
    "colab": {
      "name": "Auth_failed Pattern.ipynb",
      "provenance": [],
      "collapsed_sections": [],
      "include_colab_link": true
    },
    "kernelspec": {
      "name": "python3",
      "display_name": "Python 3"
    }
  },
  "cells": [
    {
      "cell_type": "markdown",
      "metadata": {
        "id": "view-in-github",
        "colab_type": "text"
      },
      "source": [
        "<a href=\"https://colab.research.google.com/github/siyil/My-code/blob/master/Auth_failed_Pattern.ipynb\" target=\"_parent\"><img src=\"https://colab.research.google.com/assets/colab-badge.svg\" alt=\"Open In Colab\"/></a>"
      ]
    },
    {
      "cell_type": "code",
      "metadata": {
        "id": "nRTEZ1EBXCVz",
        "colab_type": "code",
        "colab": {}
      },
      "source": [
        "import numpy as np\n",
        "import pandas as pd\n",
        "import matplotlib.pyplot as plt\n",
        "import matplotlib.dates as mdates\n",
        "from matplotlib.ticker import FuncFormatter\n",
        "#from scipy.interpolate import spline\n",
        "from scipy import stats\n",
        "import seaborn as sns\n",
        "import statsmodels.api as sm\n",
        "from statsmodels.formula.api import ols, quantreg\n",
        "from ds_tools import db\n",
        "from ds_tools import df_to_snowflake\n",
        "import datetime as dt\n",
        "from statsmodels.distributions.empirical_distribution import ECDF\n",
        "from patsy import dmatrices"
      ],
      "execution_count": 0,
      "outputs": []
    },
    {
      "cell_type": "code",
      "metadata": {
        "id": "Vwh9kG5Uxyb3",
        "colab_type": "code",
        "colab": {}
      },
      "source": [
        "\n",
        "getauthfailed = '''\n",
        "select t.id, t.user_id, t.created_at, b.geohash, r.name, t.status, u.created_at as user_created_at, t.bike_id, t.error, h.status_logs,\n",
        "timediff(second, t.created_at::timestamp, substring(h.status_logs, charindex(':status: failed', h.status_logs) -34, 19)::timestamp) as first_failed, CAST((length(h.status_logs) - length(replace(h.status_logs, ':status: failed', '')))/15 AS int) as failed_counts\n",
        "        from public.trips t\n",
        "        join (select id, datestring, geohash from stg.bikes_daily) b on t.bike_id = b.id and dateadd('hour',-7, b.datestring::timestamp)::date = t.created_at::date\n",
        "        join (select distinct region_id, geohash from public.geohashes) as g\n",
        "        on g.geohash = b.geohash\n",
        "        JOIN public.regions as r\n",
        "        ON r.id = g.region_id\n",
        "        join public.users u on t.user_id = u.id\n",
        "        join public.trip_histories h on h.trip_id = t.id\n",
        "where r.name <> 'Berlin' and t.status = 'reservation_expired' and t.error = 'auth_failed'\n",
        "'''\n",
        "\n",
        "samples = db.query_snowflake(getauthfailed, warehouse = 'COMPUTE_WH')\n"
      ],
      "execution_count": 0,
      "outputs": []
    },
    {
      "cell_type": "code",
      "metadata": {
        "id": "c940NZFw9qeM",
        "colab_type": "code",
        "colab": {
          "base_uri": "https://localhost:8080/",
          "height": 298
        },
        "outputId": "c1792a73-2e23-4759-9002-28d26b4c0d31"
      },
      "source": [
        "plt.hist(samples['first_failed'], bins = range(0,200,10))\n",
        "plt.title('distribution of time difference in seconds, reserved and first failed')"
      ],
      "execution_count": 13,
      "outputs": [
        {
          "output_type": "execute_result",
          "data": {
            "text/plain": [
              "Text(0.5, 1.0, 'distribution of time difference in seconds, reserved and first failed')"
            ]
          },
          "metadata": {
            "tags": []
          },
          "execution_count": 13
        },
        {
          "output_type": "display_data",
          "data": {
            "text/plain": [
              "<Figure size 432x288 with 1 Axes>"
            ],
            "image/png": "[encoded data removed]"
          },
          "metadata": {
            "tags": [],
            "needs_background": "light"
          }
        }
      ]
    },
    {
      "cell_type": "code",
      "metadata": {
        "id": "2C04NVlk--DD",
        "colab_type": "code",
        "colab": {
          "base_uri": "https://localhost:8080/",
          "height": 298
        },
        "outputId": "f621588f-cf60-459f-b545-efb3b9b7247e"
      },
      "source": [
        "plt.hist(samples['failed_counts'], bins = range(0,46,2))\n",
        "plt.title('distribution of failed counts')"
      ],
      "execution_count": 10,
      "outputs": [
        {
          "output_type": "execute_result",
          "data": {
            "text/plain": [
              "Text(0.5, 1.0, 'distribution of failed counts')"
            ]
          },
          "metadata": {
            "tags": []
          },
          "execution_count": 10
        },
        {
          "output_type": "display_data",
          "data": {
            "text/plain": [
              "<Figure size 432x288 with 1 Axes>"
            ],
            "image/png": "[encoded data removed]"
          },
          "metadata": {
            "tags": [],
            "needs_background": "light"
          }
        }
      ]
    }
  ]
}