{
  "nbformat": 4,
  "nbformat_minor": 0,
  "metadata": {
    "colab": {
      "name": "TestRun.ipynb",
      "provenance": [],
      "collapsed_sections": [],
      "include_colab_link": true
    },
    "kernelspec": {
      "name": "python3",
      "display_name": "Python 3"
    }
  },
  "cells": [
    {
      "cell_type": "markdown",
      "metadata": {
        "id": "view-in-github",
        "colab_type": "text"
      },
      "source": [
        "<a href=\"https://colab.research.google.com/github/siyil/My-code/blob/master/firmware-diff-in-diff.ipynb\" target=\"_parent\"><img src=\"https://colab.research.google.com/assets/colab-badge.svg\" alt=\"Open In Colab\"/></a>"
      ]
    },
    {
      "cell_type": "code",
      "metadata": {
        "id": "nRTEZ1EBXCVz",
        "colab_type": "code",
        "colab": {}
      },
      "source": [
        "import numpy as np\n",
        "import pandas as pd\n",
        "import matplotlib.pyplot as plt\n",
        "import matplotlib.dates as mdates\n",
        "from matplotlib.ticker import FuncFormatter\n",
        "#from scipy.interpolate import spline\n",
        "from scipy import stats\n",
        "import seaborn as sns\n",
        "import statsmodels.api as sm\n",
        "from statsmodels.formula.api import ols, quantreg\n",
        "from ds_tools import db\n",
        "from ds_tools import df_to_snowflake\n",
        "import datetime as dt\n",
        "from statsmodels.distributions.empirical_distribution import ECDF\n",
        "from patsy import dmatrices"
      ],
      "execution_count": 0,
      "outputs": []
    },
    {
      "cell_type": "code",
      "metadata": {
        "id": "Vwh9kG5Uxyb3",
        "colab_type": "code",
        "colab": {}
      },
      "source": [
        "\n",
        "getmetric = '''\n",
        "select * from dm.firmware_upgrade_analysis_Lishui_daily_off_minutes_stat\n",
        "'''\n",
        "runregression1 = \"\"\"\n",
        "select * from dm.firmware_upgrade_analysis_Lishui_daily_off_minutes\n",
        "\"\"\"\n",
        "runregression2 = \"\"\"\n",
        "select * from dm.firmware_upgrade_analysis_Lishui_daily_off_minutes_AA\n",
        "\"\"\"\n",
        "\n",
        "samples = db.query_snowflake(getmetric,warehouse = 'COMPUTE_WH')\n",
        "mydata1 = db.query_snowflake(runregression1,warehouse = 'COMPUTE_WH')\n",
        "mydata2 = db.query_snowflake(runregression2,warehouse = 'COMPUTE_WH')\n",
        "\n",
        "samples = samples.assign(pval = lambda x: 1-stats.t.cdf(np.abs(x.tstat), x.control_n + x.test_n - 2))\n",
        "samples = samples.assign(pvala = lambda x: 1-stats.t.cdf(np.abs(x.tstata), x.controla_n + x.testa_n - 2))\n",
        "#samples1 = samples.assign(alpha = 1)\n",
        "#samples5 = samples.assign(alpha = 5)\n",
        "#samples10 = samples.assign(alpha = 10)\n",
        "#samples = samples1.append(samples5).append(samples10)\n",
        "\n",
        "#samples = samples.assign(upper = lambda x: x.diff_mean.astype(float) + stats.t.ppf(1- x.alpha/200, x.control_n + x.test_n - 2)*x.sp*np.sqrt(1/x.control_n + 1/x.test_n))\n",
        "#samples = samples.assign(lower = lambda x: x.diff_mean.astype(float) - stats.t.ppf(1- x.alpha/200, x.control_n + x.test_n - 2)*x.sp*np.sqrt(1/x.control_n + 1/x.test_n))\n"
      ],
      "execution_count": 0,
      "outputs": []
    },
    {
      "cell_type": "code",
      "metadata": {
        "id": "zJ-I6JkVkLrD",
        "colab_type": "code",
        "colab": {
          "base_uri": "https://localhost:8080/",
          "height": 187
        },
        "outputId": "020a38b1-7556-41fd-e97f-9def6ef0d32c"
      },
      "source": [
        "mydata1 = mydata1.assign(after = 1.0)\n",
        "mydata2 = mydata2.assign(after = 0.0)\n",
        "mydata = mydata1.append(mydata2)\n",
        "mydata = mydata.assign(test = (mydata['group_name'] == 'test')*1.0)\n",
        "mydata = mydata.assign(inter = lambda x: x.test*x.after)\n",
        "mydata['daily_off_minutes'] = mydata['daily_off_minutes'].astype('float')\n",
        "\n",
        "\n",
        "experiments = list(mydata['experiment_name'].unique())\n",
        "n_result = len(experiments)+1\n",
        "regresults = {'experiment_name' : experiments + ['all'], 'DD':[0]*n_result, 'pvaldd':[0]*n_result}\n",
        "reg = pd.DataFrame(regresults)\n",
        "\n",
        "\n",
        "for exp in experiments:\n",
        "  y, X = dmatrices('daily_off_minutes ~ after + test + inter', data=mydata.loc[mydata['experiment_name'] == exp], return_type='dataframe')\n",
        "  model = sm.OLS(y,X).fit()\n",
        "  reg.loc[reg['experiment_name'] == exp, ['DD','pvaldd']] = [model.params[3], model.pvalues[3]]\n",
        "  \n",
        "  \n",
        "y, X = dmatrices('daily_off_minutes ~ after + test + inter', data=mydata, return_type='dataframe')\n",
        "model = sm.OLS(y,X).fit()\n",
        "reg.loc[reg['experiment_name'] == 'all', ['DD','pvaldd']] = [model.params[3], model.pvalues[3]]\n",
        "print(reg)\n"
      ],
      "execution_count": 118,
      "outputs": [
        {
          "output_type": "stream",
          "text": [
            "                                     experiment_name           DD    pvaldd\n",
            "0   Frankfurt_Lishui_S_3.0GE_Z_E_0.2_0.1_0.1_0.1_0.2   274.370589  0.000011\n",
            "1      Munich_Lishui_S_3.0GE_Z_E_0.2_0.1_0.1_0.1_0.2    -0.071429  0.999448\n",
            "2  Firmware_Experiment_Calgary_Lishui_S_V3.0_Z_U_...   -88.163866  0.322704\n",
            "3  Firmware_Experiment_Cologne_Lishui_S_3.0GE_Z_E...   105.014286  0.865216\n",
            "4  Firmware_Experiment_Berlin_Lishui_S_3.0GE_Z_E_...  1601.943482  0.000005\n",
            "5  Firmware_Experiment_Paris_Lishui_S_V3.0_Z_E_0....  -276.981998  0.343136\n",
            "6  Firmware_Experiment_Zurich_Lishui_S_V3.0_Z_E_0...   -14.202178  0.828993\n",
            "7  Firmware_Experiment_Edmonton_Lishui_S_V3.0_Z_U...   128.268908  0.533437\n",
            "8                                                all     5.040542  0.985456\n"
          ],
          "name": "stdout"
        }
      ]
    },
    {
      "cell_type": "code",
      "metadata": {
        "id": "eUI1X_pjpHhX",
        "colab_type": "code",
        "colab": {
          "base_uri": "https://localhost:8080/",
          "height": 952
        },
        "outputId": "51cf3226-cce5-425a-bc06-6e93a8fc8ff0"
      },
      "source": [
        "print(reg)\n",
        "samples = samples.merge(reg, on = 'experiment_name')\n",
        "print(samples)"
      ],
      "execution_count": 109,
      "outputs": [
        {
          "output_type": "stream",
          "text": [
            "                                     experiment_name         DD    pvaldd\n",
            "0   Frankfurt_Lishui_S_3.0GE_Z_E_0.2_0.1_0.1_0.1_0.2   4.653000  0.518195\n",
            "1      Munich_Lishui_S_3.0GE_Z_E_0.2_0.1_0.1_0.1_0.2 -11.785143  0.200108\n",
            "2  Firmware_Experiment_Calgary_Lishui_S_V3.0_Z_U_...   3.345276  0.667895\n",
            "3  Firmware_Experiment_Cologne_Lishui_S_3.0GE_Z_E...  35.262726  0.416382\n",
            "4  Firmware_Experiment_Berlin_Lishui_S_3.0GE_Z_E_...  40.729268  0.168337\n",
            "5  Firmware_Experiment_Paris_Lishui_S_V3.0_Z_E_0.... -82.007711  0.074041\n",
            "6  Firmware_Experiment_Zurich_Lishui_S_V3.0_Z_E_0... -10.688435  0.355782\n",
            "7  Firmware_Experiment_Edmonton_Lishui_S_V3.0_Z_U...   2.956902  0.902976\n",
            "8                                                all   9.599130  0.420544\n",
            "                                     experiment_name         test_mean  \\\n",
            "0  Firmware_Experiment_Edmonton_Lishui_S_V3.0_Z_U...  233.974117711429   \n",
            "1  Firmware_Experiment_Paris_Lishui_S_V3.0_Z_E_0....  392.689027501433   \n",
            "2  Firmware_Experiment_Zurich_Lishui_S_V3.0_Z_E_0...  175.727917907937   \n",
            "3  Firmware_Experiment_Berlin_Lishui_S_3.0GE_Z_E_...  196.326061647295   \n",
            "4      Munich_Lishui_S_3.0GE_Z_E_0.2_0.1_0.1_0.1_0.2   45.330428739000   \n",
            "5   Frankfurt_Lishui_S_3.0GE_Z_E_0.2_0.1_0.1_0.1_0.2   36.461428706000   \n",
            "6  Firmware_Experiment_Calgary_Lishui_S_V3.0_Z_U_...  177.901103664845   \n",
            "7                                                all  178.864786315772   \n",
            "8  Firmware_Experiment_Cologne_Lishui_S_3.0GE_Z_E...  353.756380956667   \n",
            "\n",
            "       control_mean     test_sd  control_sd          diff_mean          sp  \\\n",
            "0  257.474970518625  179.643918  204.353004   -23.500852807196  192.377850   \n",
            "1  511.578714768786  300.535060  357.145747  -118.889687267353  329.934259   \n",
            "2  182.664425815873   80.148555  111.224366    -6.936507907936   96.939802   \n",
            "3  201.005527486991  271.326001  262.483855    -4.679465839696  266.938588   \n",
            "4   67.906285870000  154.319689  202.978384   -22.575857131000  180.298074   \n",
            "5   27.228857278000  162.804851  131.575882     9.232571428000  148.016270   \n",
            "6  181.259251369091   94.881964  102.352248    -3.358147704246   98.691218   \n",
            "7  195.688169883983  266.680846  283.453410   -16.823383568211  275.192125   \n",
            "8  384.592451027871  381.191567  389.364181   -30.836070071204  385.292714   \n",
            "\n",
            "      tstat  test_n  control_n  ... controla_sd        diff_meana         spa  \\\n",
            "0 -1.614933     350        349  ...  270.889489  -26.457754543356  256.456295   \n",
            "1 -4.750005     349        346  ...  545.214446  -36.881976111060  506.719216   \n",
            "2 -0.897949     315        315  ...  113.837246    3.751927444444  108.110678   \n",
            "3 -0.479782    1497       1499  ...  781.780486  -45.408733599704  763.757273   \n",
            "4 -2.799872    1000       1000  ...  110.228996  -10.790714284000   98.904454   \n",
            "5  1.394756    1000       1000  ...   43.155913    4.579571423000   63.372993   \n",
            "6 -0.564066     549        550  ...   99.976556   -6.703423467564   83.421055   \n",
            "7 -3.335091    5960       5956  ...  615.622247  -26.422513356573  589.354466   \n",
            "8 -1.696312     900        897  ...  896.307356  -66.098795975659  834.929555   \n",
            "\n",
            "     tstata testa_n  controla_n      pval     pvala         DD    pvaldd  \n",
            "0 -1.363847     350         349  0.053389  0.086528   2.956902  0.902976  \n",
            "1 -0.959454     349         346  0.000001  0.168832 -82.007711  0.074041  \n",
            "2  0.435511     315         315  0.184778  0.331671 -10.688435  0.355782  \n",
            "3 -1.627209    1497        1499  0.315709  0.051899  40.729268  0.168337  \n",
            "4 -2.439604    1000        1000  0.002581  0.007395 -11.785143  0.200108  \n",
            "5  1.615867    1000        1000  0.081622  0.053140   4.653000  0.518195  \n",
            "6 -1.332079     549         550  0.286412  0.091555   3.345276  0.667895  \n",
            "7 -2.445839    5960        5956  0.000428  0.007233   9.599130  0.420544  \n",
            "8 -1.677958     900         897  0.045000  0.046765  35.262726  0.416382  \n",
            "\n",
            "[9 rows x 23 columns]\n"
          ],
          "name": "stdout"
        }
      ]
    },
    {
      "cell_type": "code",
      "metadata": {
        "id": "1T6A9La8Mg6k",
        "colab_type": "code",
        "colab": {}
      },
      "source": [
        "samples.to_csv('/Users/siyi.luo/Code/IoT Experiment/stats.csv')"
      ],
      "execution_count": 0,
      "outputs": []
    }
  ]
}